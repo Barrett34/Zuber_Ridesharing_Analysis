{
 "cells": [
  {
   "cell_type": "markdown",
   "metadata": {},
   "source": [
    "# Zuber EDA & SDA Project\n",
    "\n",
    "In this project, we will conduct and statistical and exploratory analysis of the new ride-sharing company launching in Chicago, Zuber. We will find patterns from data from taxi companies already existing that was obtained by parsing the link : https://practicum-content.s3.us-west-1.amazonaws.com/data-analyst-eng/moved_chicago_weather_2017.html, and csv files containing data with exisiting taxi companies.\n",
    "\n",
    "Our goal is to understand passenger prefences and the impact of external factors on rides. We will also analyze the data from competitors and test a hypothesis about the impact weather has on ride frequency."
   ]
  },
  {
   "cell_type": "markdown",
   "metadata": {},
   "source": [
    "## Company and Number of Trips"
   ]
  },
  {
   "cell_type": "code",
   "execution_count": 1,
   "metadata": {},
   "outputs": [],
   "source": [
    "# Importing necessary packages and libraries\n",
    "import pandas as pd\n",
    "import numpy as np\n",
    "import matplotlib.pyplot as plt\n",
    "import seaborn as sns\n",
    "from scipy import stats as st"
   ]
  },
  {
   "cell_type": "code",
   "execution_count": 2,
   "metadata": {},
   "outputs": [
    {
     "data": {
      "text/html": [
       "<div>\n",
       "<style scoped>\n",
       "    .dataframe tbody tr th:only-of-type {\n",
       "        vertical-align: middle;\n",
       "    }\n",
       "\n",
       "    .dataframe tbody tr th {\n",
       "        vertical-align: top;\n",
       "    }\n",
       "\n",
       "    .dataframe thead th {\n",
       "        text-align: right;\n",
       "    }\n",
       "</style>\n",
       "<table border=\"1\" class=\"dataframe\">\n",
       "  <thead>\n",
       "    <tr style=\"text-align: right;\">\n",
       "      <th></th>\n",
       "      <th>company_name</th>\n",
       "      <th>trips_amount</th>\n",
       "    </tr>\n",
       "  </thead>\n",
       "  <tbody>\n",
       "    <tr>\n",
       "      <th>0</th>\n",
       "      <td>Flash Cab</td>\n",
       "      <td>19558</td>\n",
       "    </tr>\n",
       "    <tr>\n",
       "      <th>1</th>\n",
       "      <td>Taxi Affiliation Services</td>\n",
       "      <td>11422</td>\n",
       "    </tr>\n",
       "    <tr>\n",
       "      <th>2</th>\n",
       "      <td>Medallion Leasing</td>\n",
       "      <td>10367</td>\n",
       "    </tr>\n",
       "    <tr>\n",
       "      <th>3</th>\n",
       "      <td>Yellow Cab</td>\n",
       "      <td>9888</td>\n",
       "    </tr>\n",
       "    <tr>\n",
       "      <th>4</th>\n",
       "      <td>Taxi Affiliation Service Yellow</td>\n",
       "      <td>9299</td>\n",
       "    </tr>\n",
       "    <tr>\n",
       "      <th>...</th>\n",
       "      <td>...</td>\n",
       "      <td>...</td>\n",
       "    </tr>\n",
       "    <tr>\n",
       "      <th>59</th>\n",
       "      <td>4053 - 40193 Adwar H. Nikola</td>\n",
       "      <td>7</td>\n",
       "    </tr>\n",
       "    <tr>\n",
       "      <th>60</th>\n",
       "      <td>2733 - 74600 Benny Jona</td>\n",
       "      <td>7</td>\n",
       "    </tr>\n",
       "    <tr>\n",
       "      <th>61</th>\n",
       "      <td>5874 - 73628 Sergey Cab Corp.</td>\n",
       "      <td>5</td>\n",
       "    </tr>\n",
       "    <tr>\n",
       "      <th>62</th>\n",
       "      <td>2241 - 44667 - Felman Corp</td>\n",
       "      <td>3</td>\n",
       "    </tr>\n",
       "    <tr>\n",
       "      <th>63</th>\n",
       "      <td>3556 - 36214 RC Andrews Cab</td>\n",
       "      <td>2</td>\n",
       "    </tr>\n",
       "  </tbody>\n",
       "</table>\n",
       "<p>64 rows × 2 columns</p>\n",
       "</div>"
      ],
      "text/plain": [
       "                       company_name  trips_amount\n",
       "0                         Flash Cab         19558\n",
       "1         Taxi Affiliation Services         11422\n",
       "2                 Medallion Leasing         10367\n",
       "3                        Yellow Cab          9888\n",
       "4   Taxi Affiliation Service Yellow          9299\n",
       "..                              ...           ...\n",
       "59     4053 - 40193 Adwar H. Nikola             7\n",
       "60          2733 - 74600 Benny Jona             7\n",
       "61    5874 - 73628 Sergey Cab Corp.             5\n",
       "62       2241 - 44667 - Felman Corp             3\n",
       "63      3556 - 36214 RC Andrews Cab             2\n",
       "\n",
       "[64 rows x 2 columns]"
      ]
     },
     "metadata": {},
     "output_type": "display_data"
    },
    {
     "name": "stdout",
     "output_type": "stream",
     "text": [
      "<class 'pandas.core.frame.DataFrame'>\n",
      "RangeIndex: 64 entries, 0 to 63\n",
      "Data columns (total 2 columns):\n",
      " #   Column        Non-Null Count  Dtype \n",
      "---  ------        --------------  ----- \n",
      " 0   company_name  64 non-null     object\n",
      " 1   trips_amount  64 non-null     int64 \n",
      "dtypes: int64(1), object(1)\n",
      "memory usage: 1.1+ KB\n"
     ]
    },
    {
     "data": {
      "text/html": [
       "<div>\n",
       "<style scoped>\n",
       "    .dataframe tbody tr th:only-of-type {\n",
       "        vertical-align: middle;\n",
       "    }\n",
       "\n",
       "    .dataframe tbody tr th {\n",
       "        vertical-align: top;\n",
       "    }\n",
       "\n",
       "    .dataframe thead th {\n",
       "        text-align: right;\n",
       "    }\n",
       "</style>\n",
       "<table border=\"1\" class=\"dataframe\">\n",
       "  <thead>\n",
       "    <tr style=\"text-align: right;\">\n",
       "      <th></th>\n",
       "      <th>trips_amount</th>\n",
       "    </tr>\n",
       "  </thead>\n",
       "  <tbody>\n",
       "    <tr>\n",
       "      <th>count</th>\n",
       "      <td>64.000000</td>\n",
       "    </tr>\n",
       "    <tr>\n",
       "      <th>mean</th>\n",
       "      <td>2145.484375</td>\n",
       "    </tr>\n",
       "    <tr>\n",
       "      <th>std</th>\n",
       "      <td>3812.310186</td>\n",
       "    </tr>\n",
       "    <tr>\n",
       "      <th>min</th>\n",
       "      <td>2.000000</td>\n",
       "    </tr>\n",
       "    <tr>\n",
       "      <th>25%</th>\n",
       "      <td>20.750000</td>\n",
       "    </tr>\n",
       "    <tr>\n",
       "      <th>50%</th>\n",
       "      <td>178.500000</td>\n",
       "    </tr>\n",
       "    <tr>\n",
       "      <th>75%</th>\n",
       "      <td>2106.500000</td>\n",
       "    </tr>\n",
       "    <tr>\n",
       "      <th>max</th>\n",
       "      <td>19558.000000</td>\n",
       "    </tr>\n",
       "  </tbody>\n",
       "</table>\n",
       "</div>"
      ],
      "text/plain": [
       "       trips_amount\n",
       "count     64.000000\n",
       "mean    2145.484375\n",
       "std     3812.310186\n",
       "min        2.000000\n",
       "25%       20.750000\n",
       "50%      178.500000\n",
       "75%     2106.500000\n",
       "max    19558.000000"
      ]
     },
     "execution_count": 2,
     "metadata": {},
     "output_type": "execute_result"
    }
   ],
   "source": [
    "# Reading Company vs Trips Count CSV File\n",
    "company_trips = pd.read_csv('/datasets/project_sql_result_01.csv')\n",
    "display(company_trips)\n",
    "company_trips.info()\n",
    "company_trips.describe()"
   ]
  },
  {
   "cell_type": "code",
   "execution_count": 3,
   "metadata": {},
   "outputs": [
    {
     "data": {
      "text/plain": [
       "0"
      ]
     },
     "execution_count": 3,
     "metadata": {},
     "output_type": "execute_result"
    }
   ],
   "source": [
    "company_trips.duplicated().sum()"
   ]
  },
  {
   "cell_type": "markdown",
   "metadata": {},
   "source": [
    "In our company_trips dataframe, we have two columns. One for the company names that gives rides and the other being the amount of rides they gave. Both types seem to be appropriate for SDA so I left them as they are.There were no duplicate rows of data found. I then ran the describe() method to get a statisical summary of the data.\n",
    "\n",
    "It looks as the average amount of rides given by company is about 2145 rides. The median is around 179. The max amount of rides was given by Flash Cab, which seems to be a big company in the city as the min company seems to be named after a person. I will assume here that the lower counts are small companies ran by individual drivers.\n"
   ]
  },
  {
   "cell_type": "markdown",
   "metadata": {},
   "source": [
    "## Dropoff Location v Avg Trips"
   ]
  },
  {
   "cell_type": "code",
   "execution_count": 4,
   "metadata": {},
   "outputs": [
    {
     "data": {
      "text/html": [
       "<div>\n",
       "<style scoped>\n",
       "    .dataframe tbody tr th:only-of-type {\n",
       "        vertical-align: middle;\n",
       "    }\n",
       "\n",
       "    .dataframe tbody tr th {\n",
       "        vertical-align: top;\n",
       "    }\n",
       "\n",
       "    .dataframe thead th {\n",
       "        text-align: right;\n",
       "    }\n",
       "</style>\n",
       "<table border=\"1\" class=\"dataframe\">\n",
       "  <thead>\n",
       "    <tr style=\"text-align: right;\">\n",
       "      <th></th>\n",
       "      <th>dropoff_location_name</th>\n",
       "      <th>average_trips</th>\n",
       "    </tr>\n",
       "  </thead>\n",
       "  <tbody>\n",
       "    <tr>\n",
       "      <th>0</th>\n",
       "      <td>Loop</td>\n",
       "      <td>10727.466667</td>\n",
       "    </tr>\n",
       "    <tr>\n",
       "      <th>1</th>\n",
       "      <td>River North</td>\n",
       "      <td>9523.666667</td>\n",
       "    </tr>\n",
       "    <tr>\n",
       "      <th>2</th>\n",
       "      <td>Streeterville</td>\n",
       "      <td>6664.666667</td>\n",
       "    </tr>\n",
       "    <tr>\n",
       "      <th>3</th>\n",
       "      <td>West Loop</td>\n",
       "      <td>5163.666667</td>\n",
       "    </tr>\n",
       "    <tr>\n",
       "      <th>4</th>\n",
       "      <td>O'Hare</td>\n",
       "      <td>2546.900000</td>\n",
       "    </tr>\n",
       "    <tr>\n",
       "      <th>...</th>\n",
       "      <td>...</td>\n",
       "      <td>...</td>\n",
       "    </tr>\n",
       "    <tr>\n",
       "      <th>89</th>\n",
       "      <td>Mount Greenwood</td>\n",
       "      <td>3.137931</td>\n",
       "    </tr>\n",
       "    <tr>\n",
       "      <th>90</th>\n",
       "      <td>Hegewisch</td>\n",
       "      <td>3.117647</td>\n",
       "    </tr>\n",
       "    <tr>\n",
       "      <th>91</th>\n",
       "      <td>Burnside</td>\n",
       "      <td>2.333333</td>\n",
       "    </tr>\n",
       "    <tr>\n",
       "      <th>92</th>\n",
       "      <td>East Side</td>\n",
       "      <td>1.961538</td>\n",
       "    </tr>\n",
       "    <tr>\n",
       "      <th>93</th>\n",
       "      <td>Riverdale</td>\n",
       "      <td>1.800000</td>\n",
       "    </tr>\n",
       "  </tbody>\n",
       "</table>\n",
       "<p>94 rows × 2 columns</p>\n",
       "</div>"
      ],
      "text/plain": [
       "   dropoff_location_name  average_trips\n",
       "0                   Loop   10727.466667\n",
       "1            River North    9523.666667\n",
       "2          Streeterville    6664.666667\n",
       "3              West Loop    5163.666667\n",
       "4                 O'Hare    2546.900000\n",
       "..                   ...            ...\n",
       "89       Mount Greenwood       3.137931\n",
       "90             Hegewisch       3.117647\n",
       "91              Burnside       2.333333\n",
       "92             East Side       1.961538\n",
       "93             Riverdale       1.800000\n",
       "\n",
       "[94 rows x 2 columns]"
      ]
     },
     "metadata": {},
     "output_type": "display_data"
    },
    {
     "name": "stdout",
     "output_type": "stream",
     "text": [
      "<class 'pandas.core.frame.DataFrame'>\n",
      "RangeIndex: 94 entries, 0 to 93\n",
      "Data columns (total 2 columns):\n",
      " #   Column                 Non-Null Count  Dtype  \n",
      "---  ------                 --------------  -----  \n",
      " 0   dropoff_location_name  94 non-null     object \n",
      " 1   average_trips          94 non-null     float64\n",
      "dtypes: float64(1), object(1)\n",
      "memory usage: 1.6+ KB\n"
     ]
    },
    {
     "data": {
      "text/html": [
       "<div>\n",
       "<style scoped>\n",
       "    .dataframe tbody tr th:only-of-type {\n",
       "        vertical-align: middle;\n",
       "    }\n",
       "\n",
       "    .dataframe tbody tr th {\n",
       "        vertical-align: top;\n",
       "    }\n",
       "\n",
       "    .dataframe thead th {\n",
       "        text-align: right;\n",
       "    }\n",
       "</style>\n",
       "<table border=\"1\" class=\"dataframe\">\n",
       "  <thead>\n",
       "    <tr style=\"text-align: right;\">\n",
       "      <th></th>\n",
       "      <th>average_trips</th>\n",
       "    </tr>\n",
       "  </thead>\n",
       "  <tbody>\n",
       "    <tr>\n",
       "      <th>count</th>\n",
       "      <td>94.000000</td>\n",
       "    </tr>\n",
       "    <tr>\n",
       "      <th>mean</th>\n",
       "      <td>599.953728</td>\n",
       "    </tr>\n",
       "    <tr>\n",
       "      <th>std</th>\n",
       "      <td>1714.591098</td>\n",
       "    </tr>\n",
       "    <tr>\n",
       "      <th>min</th>\n",
       "      <td>1.800000</td>\n",
       "    </tr>\n",
       "    <tr>\n",
       "      <th>25%</th>\n",
       "      <td>14.266667</td>\n",
       "    </tr>\n",
       "    <tr>\n",
       "      <th>50%</th>\n",
       "      <td>52.016667</td>\n",
       "    </tr>\n",
       "    <tr>\n",
       "      <th>75%</th>\n",
       "      <td>298.858333</td>\n",
       "    </tr>\n",
       "    <tr>\n",
       "      <th>max</th>\n",
       "      <td>10727.466667</td>\n",
       "    </tr>\n",
       "  </tbody>\n",
       "</table>\n",
       "</div>"
      ],
      "text/plain": [
       "       average_trips\n",
       "count      94.000000\n",
       "mean      599.953728\n",
       "std      1714.591098\n",
       "min         1.800000\n",
       "25%        14.266667\n",
       "50%        52.016667\n",
       "75%       298.858333\n",
       "max     10727.466667"
      ]
     },
     "execution_count": 4,
     "metadata": {},
     "output_type": "execute_result"
    }
   ],
   "source": [
    "# Reading Dropoff Location and Average Trips File\n",
    "dropoff_trips = pd.read_csv('/datasets/project_sql_result_04.csv')\n",
    "display(dropoff_trips)\n",
    "dropoff_trips.info()\n",
    "dropoff_trips.describe()"
   ]
  },
  {
   "cell_type": "code",
   "execution_count": 5,
   "metadata": {},
   "outputs": [
    {
     "data": {
      "text/plain": [
       "0"
      ]
     },
     "execution_count": 5,
     "metadata": {},
     "output_type": "execute_result"
    }
   ],
   "source": [
    "dropoff_trips.duplicated().sum()"
   ]
  },
  {
   "cell_type": "code",
   "execution_count": 6,
   "metadata": {},
   "outputs": [
    {
     "data": {
      "text/html": [
       "<div>\n",
       "<style scoped>\n",
       "    .dataframe tbody tr th:only-of-type {\n",
       "        vertical-align: middle;\n",
       "    }\n",
       "\n",
       "    .dataframe tbody tr th {\n",
       "        vertical-align: top;\n",
       "    }\n",
       "\n",
       "    .dataframe thead th {\n",
       "        text-align: right;\n",
       "    }\n",
       "</style>\n",
       "<table border=\"1\" class=\"dataframe\">\n",
       "  <thead>\n",
       "    <tr style=\"text-align: right;\">\n",
       "      <th></th>\n",
       "      <th>dropoff_location_name</th>\n",
       "      <th>average_trips</th>\n",
       "    </tr>\n",
       "  </thead>\n",
       "  <tbody>\n",
       "    <tr>\n",
       "      <th>0</th>\n",
       "      <td>Loop</td>\n",
       "      <td>10727.466667</td>\n",
       "    </tr>\n",
       "    <tr>\n",
       "      <th>1</th>\n",
       "      <td>River North</td>\n",
       "      <td>9523.666667</td>\n",
       "    </tr>\n",
       "    <tr>\n",
       "      <th>2</th>\n",
       "      <td>Streeterville</td>\n",
       "      <td>6664.666667</td>\n",
       "    </tr>\n",
       "    <tr>\n",
       "      <th>3</th>\n",
       "      <td>West Loop</td>\n",
       "      <td>5163.666667</td>\n",
       "    </tr>\n",
       "    <tr>\n",
       "      <th>4</th>\n",
       "      <td>O'Hare</td>\n",
       "      <td>2546.900000</td>\n",
       "    </tr>\n",
       "    <tr>\n",
       "      <th>5</th>\n",
       "      <td>Lake View</td>\n",
       "      <td>2420.966667</td>\n",
       "    </tr>\n",
       "    <tr>\n",
       "      <th>6</th>\n",
       "      <td>Grant Park</td>\n",
       "      <td>2068.533333</td>\n",
       "    </tr>\n",
       "    <tr>\n",
       "      <th>7</th>\n",
       "      <td>Museum Campus</td>\n",
       "      <td>1510.000000</td>\n",
       "    </tr>\n",
       "    <tr>\n",
       "      <th>8</th>\n",
       "      <td>Gold Coast</td>\n",
       "      <td>1364.233333</td>\n",
       "    </tr>\n",
       "    <tr>\n",
       "      <th>9</th>\n",
       "      <td>Sheffield &amp; DePaul</td>\n",
       "      <td>1259.766667</td>\n",
       "    </tr>\n",
       "  </tbody>\n",
       "</table>\n",
       "</div>"
      ],
      "text/plain": [
       "  dropoff_location_name  average_trips\n",
       "0                  Loop   10727.466667\n",
       "1           River North    9523.666667\n",
       "2         Streeterville    6664.666667\n",
       "3             West Loop    5163.666667\n",
       "4                O'Hare    2546.900000\n",
       "5             Lake View    2420.966667\n",
       "6            Grant Park    2068.533333\n",
       "7         Museum Campus    1510.000000\n",
       "8            Gold Coast    1364.233333\n",
       "9    Sheffield & DePaul    1259.766667"
      ]
     },
     "metadata": {},
     "output_type": "display_data"
    }
   ],
   "source": [
    "# Top Ten Dropoff Locations in Chicago\n",
    "top_10_dropoff_locations = dropoff_trips.iloc[:10]\n",
    "display(top_10_dropoff_locations)"
   ]
  },
  {
   "cell_type": "markdown",
   "metadata": {},
   "source": [
    "At an initial glance of the data we can see that the types seem to be appropriate. The dropoff_location_name is a str type and the average_trips a float type. The dropoff_trips dataframe contained now duplicated rows.\n",
    "\n",
    "From our dropoff_location dataframe, we see that the Loop neighborhood is a favorite spot to be dropped off in with a max of 10727 average dropoffs. Riverdale came in at the lowest at 1.8 dropoffs. The mean average trip was 600 and the median came in at 52. \n"
   ]
  },
  {
   "cell_type": "code",
   "execution_count": 7,
   "metadata": {},
   "outputs": [
    {
     "data": {
      "image/png": "[encoded data removed]",
      "text/plain": [
       "<Figure size 640x480 with 1 Axes>"
      ]
     },
     "metadata": {},
     "output_type": "display_data"
    }
   ],
   "source": [
    "# Neighborhood Dropoff Bar Chart\n",
    "top_10_dropoff_locations.plot.barh(\n",
    "    x='dropoff_location_name', \n",
    "    xlabel='Dropoff Location', \n",
    "    ylabel='Average Trips', \n",
    "    title='Dropoff Location Average Count')\n",
    "plt.show()"
   ]
  },
  {
   "cell_type": "markdown",
   "metadata": {},
   "source": [
    "Looking at the Dropoff Location Average Count bar chart, we see that the statistical summary agrees with our visualization. The Loop seems to be the most popular spot to be dropoffed at. River North comes in at a close second place with Streeterville being third. It quickly drops off after River North however."
   ]
  },
  {
   "cell_type": "code",
   "execution_count": 8,
   "metadata": {},
   "outputs": [
    {
     "data": {
      "image/png": "[encoded data removed]",
      "text/plain": [
       "<Figure size 1000x1000 with 1 Axes>"
      ]
     },
     "metadata": {},
     "output_type": "display_data"
    }
   ],
   "source": [
    "#Scatterplot showing number of trips made by each company\n",
    "company_trips.plot.scatter(x='company_name',\n",
    "                           y='trips_amount',\n",
    "                           s=200,\n",
    "                           figsize=(10,10),\n",
    "                           rot=90,\n",
    "                           title='Company Trip Count',\n",
    "                           xlabel='Companies',\n",
    "                           ylabel='Trips Count')\n",
    "plt.show()"
   ]
  },
  {
   "cell_type": "markdown",
   "metadata": {},
   "source": [
    "In our scatterplot for the Company Trip Count, just as our statistical summary showed on the dataframe, The Flash Cab company is a clear outlier when it comes to attracting customers for rides with a count at almost 20000 trips. The next company, Taxi Affilation Services comes in at 2nd at 11422 trips. We would have to conduct more research on why the Flash Cab company is a large player in the ride-sharing business."
   ]
  },
  {
   "cell_type": "markdown",
   "metadata": {},
   "source": [
    "## Loop to Ohare Trips and Weather Conditions Analysis"
   ]
  },
  {
   "cell_type": "code",
   "execution_count": 9,
   "metadata": {},
   "outputs": [
    {
     "data": {
      "text/html": [
       "<div>\n",
       "<style scoped>\n",
       "    .dataframe tbody tr th:only-of-type {\n",
       "        vertical-align: middle;\n",
       "    }\n",
       "\n",
       "    .dataframe tbody tr th {\n",
       "        vertical-align: top;\n",
       "    }\n",
       "\n",
       "    .dataframe thead th {\n",
       "        text-align: right;\n",
       "    }\n",
       "</style>\n",
       "<table border=\"1\" class=\"dataframe\">\n",
       "  <thead>\n",
       "    <tr style=\"text-align: right;\">\n",
       "      <th></th>\n",
       "      <th>start_ts</th>\n",
       "      <th>weather_conditions</th>\n",
       "      <th>duration_seconds</th>\n",
       "    </tr>\n",
       "  </thead>\n",
       "  <tbody>\n",
       "    <tr>\n",
       "      <th>0</th>\n",
       "      <td>2017-11-25 16:00:00</td>\n",
       "      <td>Good</td>\n",
       "      <td>2410.0</td>\n",
       "    </tr>\n",
       "    <tr>\n",
       "      <th>1</th>\n",
       "      <td>2017-11-25 14:00:00</td>\n",
       "      <td>Good</td>\n",
       "      <td>1920.0</td>\n",
       "    </tr>\n",
       "    <tr>\n",
       "      <th>2</th>\n",
       "      <td>2017-11-25 12:00:00</td>\n",
       "      <td>Good</td>\n",
       "      <td>1543.0</td>\n",
       "    </tr>\n",
       "    <tr>\n",
       "      <th>3</th>\n",
       "      <td>2017-11-04 10:00:00</td>\n",
       "      <td>Good</td>\n",
       "      <td>2512.0</td>\n",
       "    </tr>\n",
       "    <tr>\n",
       "      <th>4</th>\n",
       "      <td>2017-11-11 07:00:00</td>\n",
       "      <td>Good</td>\n",
       "      <td>1440.0</td>\n",
       "    </tr>\n",
       "    <tr>\n",
       "      <th>...</th>\n",
       "      <td>...</td>\n",
       "      <td>...</td>\n",
       "      <td>...</td>\n",
       "    </tr>\n",
       "    <tr>\n",
       "      <th>1063</th>\n",
       "      <td>2017-11-25 11:00:00</td>\n",
       "      <td>Good</td>\n",
       "      <td>0.0</td>\n",
       "    </tr>\n",
       "    <tr>\n",
       "      <th>1064</th>\n",
       "      <td>2017-11-11 10:00:00</td>\n",
       "      <td>Good</td>\n",
       "      <td>1318.0</td>\n",
       "    </tr>\n",
       "    <tr>\n",
       "      <th>1065</th>\n",
       "      <td>2017-11-11 13:00:00</td>\n",
       "      <td>Good</td>\n",
       "      <td>2100.0</td>\n",
       "    </tr>\n",
       "    <tr>\n",
       "      <th>1066</th>\n",
       "      <td>2017-11-11 08:00:00</td>\n",
       "      <td>Good</td>\n",
       "      <td>1380.0</td>\n",
       "    </tr>\n",
       "    <tr>\n",
       "      <th>1067</th>\n",
       "      <td>2017-11-04 16:00:00</td>\n",
       "      <td>Bad</td>\n",
       "      <td>2834.0</td>\n",
       "    </tr>\n",
       "  </tbody>\n",
       "</table>\n",
       "<p>1068 rows × 3 columns</p>\n",
       "</div>"
      ],
      "text/plain": [
       "                 start_ts weather_conditions  duration_seconds\n",
       "0     2017-11-25 16:00:00               Good            2410.0\n",
       "1     2017-11-25 14:00:00               Good            1920.0\n",
       "2     2017-11-25 12:00:00               Good            1543.0\n",
       "3     2017-11-04 10:00:00               Good            2512.0\n",
       "4     2017-11-11 07:00:00               Good            1440.0\n",
       "...                   ...                ...               ...\n",
       "1063  2017-11-25 11:00:00               Good               0.0\n",
       "1064  2017-11-11 10:00:00               Good            1318.0\n",
       "1065  2017-11-11 13:00:00               Good            2100.0\n",
       "1066  2017-11-11 08:00:00               Good            1380.0\n",
       "1067  2017-11-04 16:00:00                Bad            2834.0\n",
       "\n",
       "[1068 rows x 3 columns]"
      ]
     },
     "metadata": {},
     "output_type": "display_data"
    },
    {
     "name": "stdout",
     "output_type": "stream",
     "text": [
      "<class 'pandas.core.frame.DataFrame'>\n",
      "RangeIndex: 1068 entries, 0 to 1067\n",
      "Data columns (total 3 columns):\n",
      " #   Column              Non-Null Count  Dtype  \n",
      "---  ------              --------------  -----  \n",
      " 0   start_ts            1068 non-null   object \n",
      " 1   weather_conditions  1068 non-null   object \n",
      " 2   duration_seconds    1068 non-null   float64\n",
      "dtypes: float64(1), object(2)\n",
      "memory usage: 25.2+ KB\n"
     ]
    }
   ],
   "source": [
    "# Reading dataset that contains the trips for O'hare and Loop with their weather conditions\n",
    "loop_ohare_df = pd.read_csv('/datasets/project_sql_result_07.csv')\n",
    "display(loop_ohare_df)\n",
    "loop_ohare_df.info()"
   ]
  },
  {
   "cell_type": "code",
   "execution_count": 10,
   "metadata": {},
   "outputs": [],
   "source": [
    "# Ensuring the weather_conditions type is a str\n",
    "loop_ohare_df['weather_conditions'] = loop_ohare_df['weather_conditions'].astype(str)"
   ]
  },
  {
   "cell_type": "code",
   "execution_count": 11,
   "metadata": {},
   "outputs": [
    {
     "data": {
      "text/plain": [
       "array(['Good', 'Bad'], dtype=object)"
      ]
     },
     "execution_count": 11,
     "metadata": {},
     "output_type": "execute_result"
    }
   ],
   "source": [
    "# Checking for any other unique values in the weather_conditions column\n",
    "loop_ohare_df['weather_conditions'].unique()"
   ]
  },
  {
   "cell_type": "code",
   "execution_count": 12,
   "metadata": {},
   "outputs": [
    {
     "name": "stdout",
     "output_type": "stream",
     "text": [
      "                 start_ts weather_conditions  duration_seconds\n",
      "163   2017-11-11 09:00:00               Good               0.0\n",
      "168   2017-11-11 07:00:00               Good               0.0\n",
      "204   2017-11-18 19:00:00               Good               0.0\n",
      "552   2017-11-04 01:00:00               Good               0.0\n",
      "801   2017-11-04 09:00:00               Good               0.0\n",
      "1063  2017-11-25 11:00:00               Good               0.0\n"
     ]
    }
   ],
   "source": [
    "print(loop_ohare_df[loop_ohare_df['duration_seconds']==0])"
   ]
  },
  {
   "cell_type": "code",
   "execution_count": 13,
   "metadata": {},
   "outputs": [],
   "source": [
    "loop_ohare_df.drop([163,168,204,552,801,1063],axis=0,inplace=True)"
   ]
  },
  {
   "cell_type": "code",
   "execution_count": 14,
   "metadata": {},
   "outputs": [
    {
     "name": "stdout",
     "output_type": "stream",
     "text": [
      "Empty DataFrame\n",
      "Columns: [start_ts, weather_conditions, duration_seconds]\n",
      "Index: []\n"
     ]
    }
   ],
   "source": [
    "print(loop_ohare_df[loop_ohare_df['duration_seconds']==0])\n",
    "loop_ohare_df = loop_ohare_df[loop_ohare_df['duration_seconds'] > 0]"
   ]
  },
  {
   "cell_type": "markdown",
   "metadata": {},
   "source": [
    "In this dataframe we are looking at trips from the Loop to O'Hare Airport between November 15-16 2017 and the weather conditions on those dates. I checked for data types and searched for unique values in the weather_conditions column to see if there were any other values besides Good or Bad. \n",
    "\n",
    "I also searched for rows where the duration_seconds had 0 values as this may have been a ride that got canceled which would effect some of our statisitical results. Once I those rows were found they were removed from the dataframe.\n",
    "\n",
    "For the weather_conditions column I assumed that Bad meant that there was a rainy day that occured. "
   ]
  },
  {
   "cell_type": "code",
   "execution_count": 15,
   "metadata": {},
   "outputs": [
    {
     "data": {
      "text/html": [
       "<div>\n",
       "<style scoped>\n",
       "    .dataframe tbody tr th:only-of-type {\n",
       "        vertical-align: middle;\n",
       "    }\n",
       "\n",
       "    .dataframe tbody tr th {\n",
       "        vertical-align: top;\n",
       "    }\n",
       "\n",
       "    .dataframe thead th {\n",
       "        text-align: right;\n",
       "    }\n",
       "</style>\n",
       "<table border=\"1\" class=\"dataframe\">\n",
       "  <thead>\n",
       "    <tr style=\"text-align: right;\">\n",
       "      <th></th>\n",
       "      <th>start_ts</th>\n",
       "      <th>weather_conditions</th>\n",
       "      <th>duration_seconds</th>\n",
       "    </tr>\n",
       "  </thead>\n",
       "  <tbody>\n",
       "    <tr>\n",
       "      <th>6</th>\n",
       "      <td>2017-11-04 16:00:00</td>\n",
       "      <td>Bad</td>\n",
       "      <td>2969.0</td>\n",
       "    </tr>\n",
       "    <tr>\n",
       "      <th>30</th>\n",
       "      <td>2017-11-18 12:00:00</td>\n",
       "      <td>Bad</td>\n",
       "      <td>1980.0</td>\n",
       "    </tr>\n",
       "    <tr>\n",
       "      <th>34</th>\n",
       "      <td>2017-11-04 17:00:00</td>\n",
       "      <td>Bad</td>\n",
       "      <td>2460.0</td>\n",
       "    </tr>\n",
       "    <tr>\n",
       "      <th>51</th>\n",
       "      <td>2017-11-04 16:00:00</td>\n",
       "      <td>Bad</td>\n",
       "      <td>2760.0</td>\n",
       "    </tr>\n",
       "    <tr>\n",
       "      <th>52</th>\n",
       "      <td>2017-11-18 12:00:00</td>\n",
       "      <td>Bad</td>\n",
       "      <td>2460.0</td>\n",
       "    </tr>\n",
       "    <tr>\n",
       "      <th>...</th>\n",
       "      <td>...</td>\n",
       "      <td>...</td>\n",
       "      <td>...</td>\n",
       "    </tr>\n",
       "    <tr>\n",
       "      <th>1031</th>\n",
       "      <td>2017-11-18 12:00:00</td>\n",
       "      <td>Bad</td>\n",
       "      <td>2560.0</td>\n",
       "    </tr>\n",
       "    <tr>\n",
       "      <th>1032</th>\n",
       "      <td>2017-11-18 10:00:00</td>\n",
       "      <td>Bad</td>\n",
       "      <td>1908.0</td>\n",
       "    </tr>\n",
       "    <tr>\n",
       "      <th>1053</th>\n",
       "      <td>2017-11-18 12:00:00</td>\n",
       "      <td>Bad</td>\n",
       "      <td>2400.0</td>\n",
       "    </tr>\n",
       "    <tr>\n",
       "      <th>1061</th>\n",
       "      <td>2017-11-18 16:00:00</td>\n",
       "      <td>Bad</td>\n",
       "      <td>2186.0</td>\n",
       "    </tr>\n",
       "    <tr>\n",
       "      <th>1067</th>\n",
       "      <td>2017-11-04 16:00:00</td>\n",
       "      <td>Bad</td>\n",
       "      <td>2834.0</td>\n",
       "    </tr>\n",
       "  </tbody>\n",
       "</table>\n",
       "<p>180 rows × 3 columns</p>\n",
       "</div>"
      ],
      "text/plain": [
       "                 start_ts weather_conditions  duration_seconds\n",
       "6     2017-11-04 16:00:00                Bad            2969.0\n",
       "30    2017-11-18 12:00:00                Bad            1980.0\n",
       "34    2017-11-04 17:00:00                Bad            2460.0\n",
       "51    2017-11-04 16:00:00                Bad            2760.0\n",
       "52    2017-11-18 12:00:00                Bad            2460.0\n",
       "...                   ...                ...               ...\n",
       "1031  2017-11-18 12:00:00                Bad            2560.0\n",
       "1032  2017-11-18 10:00:00                Bad            1908.0\n",
       "1053  2017-11-18 12:00:00                Bad            2400.0\n",
       "1061  2017-11-18 16:00:00                Bad            2186.0\n",
       "1067  2017-11-04 16:00:00                Bad            2834.0\n",
       "\n",
       "[180 rows x 3 columns]"
      ]
     },
     "metadata": {},
     "output_type": "display_data"
    }
   ],
   "source": [
    "# Query for filtering only rows with Bad weather conditions\n",
    "bad_duration = loop_ohare_df.query(\" weather_conditions == 'Bad'\")\n",
    "display(bad_duration)"
   ]
  },
  {
   "cell_type": "code",
   "execution_count": 16,
   "metadata": {},
   "outputs": [
    {
     "data": {
      "text/html": [
       "<div>\n",
       "<style scoped>\n",
       "    .dataframe tbody tr th:only-of-type {\n",
       "        vertical-align: middle;\n",
       "    }\n",
       "\n",
       "    .dataframe tbody tr th {\n",
       "        vertical-align: top;\n",
       "    }\n",
       "\n",
       "    .dataframe thead th {\n",
       "        text-align: right;\n",
       "    }\n",
       "</style>\n",
       "<table border=\"1\" class=\"dataframe\">\n",
       "  <thead>\n",
       "    <tr style=\"text-align: right;\">\n",
       "      <th></th>\n",
       "      <th>start_ts</th>\n",
       "      <th>weather_conditions</th>\n",
       "      <th>duration_seconds</th>\n",
       "    </tr>\n",
       "  </thead>\n",
       "  <tbody>\n",
       "    <tr>\n",
       "      <th>0</th>\n",
       "      <td>2017-11-25 16:00:00</td>\n",
       "      <td>Good</td>\n",
       "      <td>2410.0</td>\n",
       "    </tr>\n",
       "    <tr>\n",
       "      <th>1</th>\n",
       "      <td>2017-11-25 14:00:00</td>\n",
       "      <td>Good</td>\n",
       "      <td>1920.0</td>\n",
       "    </tr>\n",
       "    <tr>\n",
       "      <th>2</th>\n",
       "      <td>2017-11-25 12:00:00</td>\n",
       "      <td>Good</td>\n",
       "      <td>1543.0</td>\n",
       "    </tr>\n",
       "    <tr>\n",
       "      <th>3</th>\n",
       "      <td>2017-11-04 10:00:00</td>\n",
       "      <td>Good</td>\n",
       "      <td>2512.0</td>\n",
       "    </tr>\n",
       "    <tr>\n",
       "      <th>4</th>\n",
       "      <td>2017-11-11 07:00:00</td>\n",
       "      <td>Good</td>\n",
       "      <td>1440.0</td>\n",
       "    </tr>\n",
       "    <tr>\n",
       "      <th>...</th>\n",
       "      <td>...</td>\n",
       "      <td>...</td>\n",
       "      <td>...</td>\n",
       "    </tr>\n",
       "    <tr>\n",
       "      <th>1060</th>\n",
       "      <td>2017-11-04 14:00:00</td>\n",
       "      <td>Good</td>\n",
       "      <td>2700.0</td>\n",
       "    </tr>\n",
       "    <tr>\n",
       "      <th>1062</th>\n",
       "      <td>2017-11-11 06:00:00</td>\n",
       "      <td>Good</td>\n",
       "      <td>1500.0</td>\n",
       "    </tr>\n",
       "    <tr>\n",
       "      <th>1064</th>\n",
       "      <td>2017-11-11 10:00:00</td>\n",
       "      <td>Good</td>\n",
       "      <td>1318.0</td>\n",
       "    </tr>\n",
       "    <tr>\n",
       "      <th>1065</th>\n",
       "      <td>2017-11-11 13:00:00</td>\n",
       "      <td>Good</td>\n",
       "      <td>2100.0</td>\n",
       "    </tr>\n",
       "    <tr>\n",
       "      <th>1066</th>\n",
       "      <td>2017-11-11 08:00:00</td>\n",
       "      <td>Good</td>\n",
       "      <td>1380.0</td>\n",
       "    </tr>\n",
       "  </tbody>\n",
       "</table>\n",
       "<p>882 rows × 3 columns</p>\n",
       "</div>"
      ],
      "text/plain": [
       "                 start_ts weather_conditions  duration_seconds\n",
       "0     2017-11-25 16:00:00               Good            2410.0\n",
       "1     2017-11-25 14:00:00               Good            1920.0\n",
       "2     2017-11-25 12:00:00               Good            1543.0\n",
       "3     2017-11-04 10:00:00               Good            2512.0\n",
       "4     2017-11-11 07:00:00               Good            1440.0\n",
       "...                   ...                ...               ...\n",
       "1060  2017-11-04 14:00:00               Good            2700.0\n",
       "1062  2017-11-11 06:00:00               Good            1500.0\n",
       "1064  2017-11-11 10:00:00               Good            1318.0\n",
       "1065  2017-11-11 13:00:00               Good            2100.0\n",
       "1066  2017-11-11 08:00:00               Good            1380.0\n",
       "\n",
       "[882 rows x 3 columns]"
      ]
     },
     "metadata": {},
     "output_type": "display_data"
    }
   ],
   "source": [
    "# Query filtering for rows with only Goog weather_conditions\n",
    "good_duration = loop_ohare_df.query(\"weather_conditions == 'Good'\")\n",
    "display(good_duration)"
   ]
  },
  {
   "cell_type": "code",
   "execution_count": 17,
   "metadata": {},
   "outputs": [
    {
     "name": "stdout",
     "output_type": "stream",
     "text": [
      "2427.2055555555557\n"
     ]
    },
    {
     "data": {
      "text/html": [
       "<div>\n",
       "<style scoped>\n",
       "    .dataframe tbody tr th:only-of-type {\n",
       "        vertical-align: middle;\n",
       "    }\n",
       "\n",
       "    .dataframe tbody tr th {\n",
       "        vertical-align: top;\n",
       "    }\n",
       "\n",
       "    .dataframe thead th {\n",
       "        text-align: right;\n",
       "    }\n",
       "</style>\n",
       "<table border=\"1\" class=\"dataframe\">\n",
       "  <thead>\n",
       "    <tr style=\"text-align: right;\">\n",
       "      <th></th>\n",
       "      <th>duration_seconds</th>\n",
       "    </tr>\n",
       "  </thead>\n",
       "  <tbody>\n",
       "    <tr>\n",
       "      <th>count</th>\n",
       "      <td>180.000000</td>\n",
       "    </tr>\n",
       "    <tr>\n",
       "      <th>mean</th>\n",
       "      <td>2427.205556</td>\n",
       "    </tr>\n",
       "    <tr>\n",
       "      <th>std</th>\n",
       "      <td>721.314138</td>\n",
       "    </tr>\n",
       "    <tr>\n",
       "      <th>min</th>\n",
       "      <td>480.000000</td>\n",
       "    </tr>\n",
       "    <tr>\n",
       "      <th>25%</th>\n",
       "      <td>1962.000000</td>\n",
       "    </tr>\n",
       "    <tr>\n",
       "      <th>50%</th>\n",
       "      <td>2540.000000</td>\n",
       "    </tr>\n",
       "    <tr>\n",
       "      <th>75%</th>\n",
       "      <td>2928.000000</td>\n",
       "    </tr>\n",
       "    <tr>\n",
       "      <th>max</th>\n",
       "      <td>4980.000000</td>\n",
       "    </tr>\n",
       "  </tbody>\n",
       "</table>\n",
       "</div>"
      ],
      "text/plain": [
       "       duration_seconds\n",
       "count        180.000000\n",
       "mean        2427.205556\n",
       "std          721.314138\n",
       "min          480.000000\n",
       "25%         1962.000000\n",
       "50%         2540.000000\n",
       "75%         2928.000000\n",
       "max         4980.000000"
      ]
     },
     "execution_count": 17,
     "metadata": {},
     "output_type": "execute_result"
    }
   ],
   "source": [
    "# Sanity check for mean\n",
    "mean_bad_duration = bad_duration['duration_seconds'].mean()\n",
    "print(mean_bad_duration)\n",
    "bad_duration.describe()"
   ]
  },
  {
   "cell_type": "code",
   "execution_count": 18,
   "metadata": {},
   "outputs": [
    {
     "name": "stdout",
     "output_type": "stream",
     "text": [
      "2013.2789115646258\n"
     ]
    },
    {
     "data": {
      "text/html": [
       "<div>\n",
       "<style scoped>\n",
       "    .dataframe tbody tr th:only-of-type {\n",
       "        vertical-align: middle;\n",
       "    }\n",
       "\n",
       "    .dataframe tbody tr th {\n",
       "        vertical-align: top;\n",
       "    }\n",
       "\n",
       "    .dataframe thead th {\n",
       "        text-align: right;\n",
       "    }\n",
       "</style>\n",
       "<table border=\"1\" class=\"dataframe\">\n",
       "  <thead>\n",
       "    <tr style=\"text-align: right;\">\n",
       "      <th></th>\n",
       "      <th>duration_seconds</th>\n",
       "    </tr>\n",
       "  </thead>\n",
       "  <tbody>\n",
       "    <tr>\n",
       "      <th>count</th>\n",
       "      <td>882.000000</td>\n",
       "    </tr>\n",
       "    <tr>\n",
       "      <th>mean</th>\n",
       "      <td>2013.278912</td>\n",
       "    </tr>\n",
       "    <tr>\n",
       "      <th>std</th>\n",
       "      <td>743.565217</td>\n",
       "    </tr>\n",
       "    <tr>\n",
       "      <th>min</th>\n",
       "      <td>60.000000</td>\n",
       "    </tr>\n",
       "    <tr>\n",
       "      <th>25%</th>\n",
       "      <td>1397.250000</td>\n",
       "    </tr>\n",
       "    <tr>\n",
       "      <th>50%</th>\n",
       "      <td>1800.000000</td>\n",
       "    </tr>\n",
       "    <tr>\n",
       "      <th>75%</th>\n",
       "      <td>2460.000000</td>\n",
       "    </tr>\n",
       "    <tr>\n",
       "      <th>max</th>\n",
       "      <td>7440.000000</td>\n",
       "    </tr>\n",
       "  </tbody>\n",
       "</table>\n",
       "</div>"
      ],
      "text/plain": [
       "       duration_seconds\n",
       "count        882.000000\n",
       "mean        2013.278912\n",
       "std          743.565217\n",
       "min           60.000000\n",
       "25%         1397.250000\n",
       "50%         1800.000000\n",
       "75%         2460.000000\n",
       "max         7440.000000"
      ]
     },
     "execution_count": 18,
     "metadata": {},
     "output_type": "execute_result"
    }
   ],
   "source": [
    "# Sanity check for mean\n",
    "mean_good_duration = good_duration['duration_seconds'].mean()\n",
    "print(mean_good_duration)\n",
    "good_duration.describe()"
   ]
  },
  {
   "cell_type": "code",
   "execution_count": 19,
   "metadata": {},
   "outputs": [
    {
     "data": {
      "text/plain": [
       "0       2410.0\n",
       "1       1920.0\n",
       "2       1543.0\n",
       "3       2512.0\n",
       "4       1440.0\n",
       "         ...  \n",
       "1060    2700.0\n",
       "1062    1500.0\n",
       "1064    1318.0\n",
       "1065    2100.0\n",
       "1066    1380.0\n",
       "Name: duration_seconds, Length: 882, dtype: float64"
      ]
     },
     "metadata": {},
     "output_type": "display_data"
    }
   ],
   "source": [
    "# Preparing data for two sided ttest to test hypothesis\n",
    "good_duration_sec = good_duration['duration_seconds']\n",
    "display(good_duration_sec)"
   ]
  },
  {
   "cell_type": "code",
   "execution_count": 20,
   "metadata": {},
   "outputs": [
    {
     "data": {
      "text/plain": [
       "6       2969.0\n",
       "30      1980.0\n",
       "34      2460.0\n",
       "51      2760.0\n",
       "52      2460.0\n",
       "         ...  \n",
       "1031    2560.0\n",
       "1032    1908.0\n",
       "1053    2400.0\n",
       "1061    2186.0\n",
       "1067    2834.0\n",
       "Name: duration_seconds, Length: 180, dtype: float64"
      ]
     },
     "metadata": {},
     "output_type": "display_data"
    }
   ],
   "source": [
    "# Preparing data for two sided ttest to test hypothesis\n",
    "bad_duration_sec = bad_duration['duration_seconds']\n",
    "display(bad_duration_sec)"
   ]
  },
  {
   "cell_type": "markdown",
   "metadata": {},
   "source": [
    "After filtering the rows for good and bad weather condition days, we will test the hypothesis:  The average duration of rides from the Loop to O'Hare International Airport changes on rainy Saturdays.\n",
    "\n",
    "Our null hypothesis: The average duration of rides from the Loop to O'hare International Airport does not change on rainy Saturdays.\n",
    "\n",
    "Alternative hypothesis: The average duration of rides from the Loop to O'hare International Airport changes on rainy Saturdays.\n",
    "\n",
    "I choose our level of significance to be set at 5% and conduct a two sided T-test to determine whether to reject or fail to reject the null hypothesis."
   ]
  },
  {
   "cell_type": "code",
   "execution_count": 21,
   "metadata": {},
   "outputs": [
    {
     "name": "stdout",
     "output_type": "stream",
     "text": [
      "p-value: 1.3318772977743245e-11\n",
      "Reject the null hypothesis\n"
     ]
    },
    {
     "name": "stderr",
     "output_type": "stream",
     "text": [
      "/tmp/ipykernel_50/1272723816.py:6: DeprecationWarning: Please use `ttest_ind` from the `scipy.stats` namespace, the `scipy.stats.stats` namespace is deprecated.\n",
      "  results = st.stats.ttest_ind(good_duration_sec, bad_duration_sec, equal_var=True)\n"
     ]
    }
   ],
   "source": [
    "# Test the hypothesis: The average duration of rides from the Loop to O'Hare International Airport \n",
    "# changes on rainy Saturdays.\n",
    "\n",
    "alpha = .05\n",
    "\n",
    "results = st.stats.ttest_ind(good_duration_sec, bad_duration_sec, equal_var=True)\n",
    "\n",
    "print('p-value:', results.pvalue)\n",
    "\n",
    "\n",
    "if (results.pvalue < alpha):\n",
    "    print(\"Reject the null hypothesis\")\n",
    "else:\n",
    "    print(\"Fail to reject the null hypothesis\")"
   ]
  },
  {
   "cell_type": "markdown",
   "metadata": {},
   "source": [
    "## Conclusion\n",
    "\n",
    "After conducting our EDA and SDA on the data that we obtained we discovered many useful insights.\n",
    "\n",
    "From our Company and their Number of Trips dataframe we discovered that the top company was easily Flash Cab. They recorded the highest amount of trips at 19558 trips. I would recommend that Zuber does further research to see what is making Flash Cab attract customers.\n",
    "\n",
    "From our Dropoff Location dataframe, we discovered that the Loop neighborhood was the most popular to be dropped off at. Zuber should consider having a high amount of drivers in the Loop location for a high amount of trips to be made for future customers.\n",
    "\n",
    "From our Loop to Ohare dataset we found that from our statisitcal summary that the mean time that it took to complete trips on rainy days was higher than trips on days with good weather conditions. The two sided statisitical t-test showed that we need to reject the null hypothesis of the average duration of rides from the Loop to O'Hare International Airport does not change on rainy Saturdays. We ran the ttest with our two samples of data from rainy days and good weather condition days with an alpha = .05, and the p-value returned a very small value (1.33 ^ -11). Therefore Zuber should prepare to plan for longer trips on rainy Saturdays."
   ]
  }
 ],
 "metadata": {
  "ExecuteTimeLog": [
   {
    "duration": 450,
    "start_time": "2024-05-21T19:30:05.277Z"
   },
   {
    "duration": 17,
    "start_time": "2024-05-21T19:30:27.834Z"
   },
   {
    "duration": 21,
    "start_time": "2024-05-21T19:30:37.084Z"
   },
   {
    "duration": 11,
    "start_time": "2024-05-21T19:31:16.099Z"
   },
   {
    "duration": 18,
    "start_time": "2024-05-21T19:31:27.468Z"
   },
   {
    "duration": 387,
    "start_time": "2024-05-21T19:31:39.050Z"
   },
   {
    "duration": 18,
    "start_time": "2024-05-21T19:31:47.956Z"
   },
   {
    "duration": 29,
    "start_time": "2024-05-21T19:34:12.080Z"
   },
   {
    "duration": 26,
    "start_time": "2024-05-21T19:34:51.347Z"
   },
   {
    "duration": 30,
    "start_time": "2024-05-21T19:36:56.251Z"
   },
   {
    "duration": 41,
    "start_time": "2024-05-21T19:37:08.430Z"
   },
   {
    "duration": 28,
    "start_time": "2024-05-21T19:37:58.459Z"
   },
   {
    "duration": 56,
    "start_time": "2024-05-21T19:38:07.537Z"
   },
   {
    "duration": 22,
    "start_time": "2024-05-21T19:40:34.562Z"
   },
   {
    "duration": 24,
    "start_time": "2024-05-21T19:41:15.233Z"
   },
   {
    "duration": 4,
    "start_time": "2024-05-21T19:43:44.362Z"
   },
   {
    "duration": 12,
    "start_time": "2024-05-21T19:43:59.759Z"
   },
   {
    "duration": 11,
    "start_time": "2024-05-21T19:44:09.281Z"
   },
   {
    "duration": 670,
    "start_time": "2024-05-21T19:53:52.522Z"
   },
   {
    "duration": 27,
    "start_time": "2024-05-21T19:56:49.758Z"
   },
   {
    "duration": 4985,
    "start_time": "2024-05-21T19:56:57.403Z"
   },
   {
    "duration": 51,
    "start_time": "2024-05-21T19:57:02.392Z"
   },
   {
    "duration": 40,
    "start_time": "2024-05-21T19:57:02.447Z"
   },
   {
    "duration": 40,
    "start_time": "2024-05-21T19:57:02.491Z"
   },
   {
    "duration": 1262,
    "start_time": "2024-05-21T19:57:02.534Z"
   },
   {
    "duration": 2244,
    "start_time": "2024-05-21T20:00:01.311Z"
   },
   {
    "duration": 262,
    "start_time": "2024-05-21T20:00:34.166Z"
   },
   {
    "duration": 1930,
    "start_time": "2024-05-21T20:03:36.617Z"
   },
   {
    "duration": 249,
    "start_time": "2024-05-21T20:07:08.045Z"
   },
   {
    "duration": 62,
    "start_time": "2024-05-21T20:07:23.690Z"
   },
   {
    "duration": 252,
    "start_time": "2024-05-21T20:07:41.104Z"
   },
   {
    "duration": 331,
    "start_time": "2024-05-22T17:45:10.465Z"
   },
   {
    "duration": 5583,
    "start_time": "2024-05-22T17:45:18.259Z"
   },
   {
    "duration": 81,
    "start_time": "2024-05-22T17:45:23.846Z"
   },
   {
    "duration": 45,
    "start_time": "2024-05-22T17:45:23.930Z"
   },
   {
    "duration": 13,
    "start_time": "2024-05-22T17:45:23.978Z"
   },
   {
    "duration": 350,
    "start_time": "2024-05-22T17:45:23.995Z"
   },
   {
    "duration": 1477,
    "start_time": "2024-05-22T17:45:24.351Z"
   },
   {
    "duration": 1203,
    "start_time": "2024-05-22T17:45:39.194Z"
   },
   {
    "duration": 1286,
    "start_time": "2024-05-22T17:45:51.754Z"
   },
   {
    "duration": 1532,
    "start_time": "2024-05-22T17:46:01.410Z"
   },
   {
    "duration": 1291,
    "start_time": "2024-05-22T17:47:36.683Z"
   },
   {
    "duration": 1200,
    "start_time": "2024-05-22T17:47:41.707Z"
   },
   {
    "duration": 1232,
    "start_time": "2024-05-22T17:47:50.910Z"
   },
   {
    "duration": 1883,
    "start_time": "2024-05-22T17:49:43.274Z"
   },
   {
    "duration": 1958,
    "start_time": "2024-05-22T17:55:04.046Z"
   },
   {
    "duration": 3435,
    "start_time": "2024-05-22T17:55:21.000Z"
   },
   {
    "duration": 1973,
    "start_time": "2024-05-22T17:55:32.541Z"
   },
   {
    "duration": 1837,
    "start_time": "2024-05-22T17:56:25.794Z"
   },
   {
    "duration": 1894,
    "start_time": "2024-05-22T17:56:41.353Z"
   },
   {
    "duration": 1841,
    "start_time": "2024-05-22T18:07:57.873Z"
   },
   {
    "duration": 29,
    "start_time": "2024-05-22T18:14:30.046Z"
   },
   {
    "duration": 4,
    "start_time": "2024-05-22T18:15:02.080Z"
   },
   {
    "duration": 36,
    "start_time": "2024-05-22T18:15:02.088Z"
   },
   {
    "duration": 52,
    "start_time": "2024-05-22T18:15:02.127Z"
   },
   {
    "duration": 11,
    "start_time": "2024-05-22T18:15:02.182Z"
   },
   {
    "duration": 269,
    "start_time": "2024-05-22T18:15:02.197Z"
   },
   {
    "duration": 24,
    "start_time": "2024-05-22T18:15:02.468Z"
   },
   {
    "duration": 23,
    "start_time": "2024-05-22T18:15:16.971Z"
   },
   {
    "duration": 1545,
    "start_time": "2024-05-22T18:15:27.814Z"
   },
   {
    "duration": 8,
    "start_time": "2024-05-22T18:17:15.522Z"
   },
   {
    "duration": 5,
    "start_time": "2024-05-22T18:17:26.800Z"
   },
   {
    "duration": 8,
    "start_time": "2024-05-22T18:17:45.446Z"
   },
   {
    "duration": 9552,
    "start_time": "2024-05-22T18:17:48.862Z"
   },
   {
    "duration": 1933,
    "start_time": "2024-05-22T18:18:09.831Z"
   },
   {
    "duration": 878,
    "start_time": "2024-05-22T18:19:26.383Z"
   },
   {
    "duration": 1703,
    "start_time": "2024-05-22T18:20:26.749Z"
   },
   {
    "duration": 6,
    "start_time": "2024-05-22T18:20:50.201Z"
   },
   {
    "duration": 1731,
    "start_time": "2024-05-22T18:21:07.501Z"
   },
   {
    "duration": 1288,
    "start_time": "2024-05-22T18:21:27.816Z"
   },
   {
    "duration": 1735,
    "start_time": "2024-05-22T18:26:52.754Z"
   },
   {
    "duration": 1705,
    "start_time": "2024-05-22T18:27:08.212Z"
   },
   {
    "duration": 11,
    "start_time": "2024-05-22T18:29:17.586Z"
   },
   {
    "duration": 26,
    "start_time": "2024-05-22T18:29:36.796Z"
   },
   {
    "duration": 21,
    "start_time": "2024-05-22T18:29:46.854Z"
   },
   {
    "duration": 6,
    "start_time": "2024-05-22T18:31:57.532Z"
   },
   {
    "duration": 34,
    "start_time": "2024-05-22T18:38:24.689Z"
   },
   {
    "duration": 24,
    "start_time": "2024-05-22T18:40:57.233Z"
   },
   {
    "duration": 4,
    "start_time": "2024-05-22T18:41:02.581Z"
   },
   {
    "duration": 6,
    "start_time": "2024-05-22T18:41:05.302Z"
   },
   {
    "duration": 33,
    "start_time": "2024-05-22T18:41:05.930Z"
   },
   {
    "duration": 28,
    "start_time": "2024-05-22T18:41:55.879Z"
   },
   {
    "duration": 39,
    "start_time": "2024-05-22T18:42:17.458Z"
   },
   {
    "duration": 46,
    "start_time": "2024-05-22T18:43:43.150Z"
   },
   {
    "duration": 12,
    "start_time": "2024-05-22T18:44:27.360Z"
   },
   {
    "duration": 20,
    "start_time": "2024-05-22T18:44:49.152Z"
   },
   {
    "duration": 19,
    "start_time": "2024-05-22T18:45:23.141Z"
   },
   {
    "duration": 25,
    "start_time": "2024-05-22T18:47:35.242Z"
   },
   {
    "duration": 4,
    "start_time": "2024-05-22T18:47:47.776Z"
   },
   {
    "duration": 6,
    "start_time": "2024-05-22T18:48:02.406Z"
   },
   {
    "duration": 4,
    "start_time": "2024-05-22T18:54:34.102Z"
   },
   {
    "duration": 5,
    "start_time": "2024-05-22T18:55:02.858Z"
   },
   {
    "duration": 16,
    "start_time": "2024-05-22T18:55:29.558Z"
   },
   {
    "duration": 19,
    "start_time": "2024-05-22T18:55:59.234Z"
   },
   {
    "duration": 10,
    "start_time": "2024-05-22T18:58:43.357Z"
   },
   {
    "duration": 7,
    "start_time": "2024-05-22T18:59:19.717Z"
   },
   {
    "duration": 11,
    "start_time": "2024-05-22T18:59:34.402Z"
   },
   {
    "duration": 4882,
    "start_time": "2024-05-23T18:01:54.135Z"
   },
   {
    "duration": 4,
    "start_time": "2024-05-23T18:02:09.875Z"
   },
   {
    "duration": 43,
    "start_time": "2024-05-23T18:02:09.886Z"
   },
   {
    "duration": 38,
    "start_time": "2024-05-23T18:02:09.934Z"
   },
   {
    "duration": 11,
    "start_time": "2024-05-23T18:02:09.975Z"
   },
   {
    "duration": 296,
    "start_time": "2024-05-23T18:02:09.989Z"
   },
   {
    "duration": 1763,
    "start_time": "2024-05-23T18:02:10.290Z"
   },
   {
    "duration": 32,
    "start_time": "2024-05-23T18:02:12.056Z"
   },
   {
    "duration": 5,
    "start_time": "2024-05-23T18:02:12.090Z"
   },
   {
    "duration": 7,
    "start_time": "2024-05-23T18:02:12.099Z"
   },
   {
    "duration": 96,
    "start_time": "2024-05-23T18:02:12.108Z"
   },
   {
    "duration": 39,
    "start_time": "2024-05-23T18:02:12.206Z"
   },
   {
    "duration": 16,
    "start_time": "2024-05-23T18:02:12.248Z"
   },
   {
    "duration": 16,
    "start_time": "2024-05-23T18:02:12.267Z"
   },
   {
    "duration": 48,
    "start_time": "2024-05-23T18:02:12.286Z"
   },
   {
    "duration": 261,
    "start_time": "2024-05-23T18:32:06.926Z"
   },
   {
    "duration": 269,
    "start_time": "2024-05-23T18:32:21.193Z"
   },
   {
    "duration": 262,
    "start_time": "2024-05-23T18:32:44.386Z"
   },
   {
    "duration": 261,
    "start_time": "2024-05-23T18:32:48.751Z"
   },
   {
    "duration": 1694,
    "start_time": "2024-05-23T18:36:52.474Z"
   },
   {
    "duration": 9,
    "start_time": "2024-05-23T18:37:12.974Z"
   },
   {
    "duration": 6,
    "start_time": "2024-05-23T18:37:16.549Z"
   },
   {
    "duration": 1721,
    "start_time": "2024-05-23T18:37:21.405Z"
   },
   {
    "duration": 7,
    "start_time": "2024-05-23T18:57:00.614Z"
   },
   {
    "duration": 8,
    "start_time": "2024-05-23T18:57:28.285Z"
   },
   {
    "duration": 11,
    "start_time": "2024-05-23T18:59:06.559Z"
   },
   {
    "duration": 9,
    "start_time": "2024-05-23T18:59:21.614Z"
   },
   {
    "duration": 5,
    "start_time": "2024-05-23T19:00:40.304Z"
   },
   {
    "duration": 1080,
    "start_time": "2024-05-23T19:00:45.323Z"
   },
   {
    "duration": 7,
    "start_time": "2024-05-23T19:04:24.633Z"
   },
   {
    "duration": 6,
    "start_time": "2024-05-23T19:04:40.798Z"
   },
   {
    "duration": 9,
    "start_time": "2024-05-23T19:04:46.583Z"
   },
   {
    "duration": 5,
    "start_time": "2024-05-23T19:10:34.390Z"
   },
   {
    "duration": 5,
    "start_time": "2024-05-23T19:10:35.663Z"
   },
   {
    "duration": 18,
    "start_time": "2024-05-23T19:12:12.459Z"
   },
   {
    "duration": 23,
    "start_time": "2024-05-23T19:12:17.379Z"
   },
   {
    "duration": 17,
    "start_time": "2024-05-23T19:12:17.984Z"
   },
   {
    "duration": 17,
    "start_time": "2024-05-23T19:12:18.581Z"
   },
   {
    "duration": 9,
    "start_time": "2024-05-23T19:12:21.942Z"
   },
   {
    "duration": 1272,
    "start_time": "2024-05-23T22:59:53.610Z"
   },
   {
    "duration": 51,
    "start_time": "2024-05-23T22:59:54.885Z"
   },
   {
    "duration": 39,
    "start_time": "2024-05-23T22:59:54.940Z"
   },
   {
    "duration": 10,
    "start_time": "2024-05-23T22:59:54.983Z"
   },
   {
    "duration": 317,
    "start_time": "2024-05-23T22:59:54.996Z"
   },
   {
    "duration": 1790,
    "start_time": "2024-05-23T22:59:55.316Z"
   },
   {
    "duration": 32,
    "start_time": "2024-05-23T22:59:57.110Z"
   },
   {
    "duration": 4,
    "start_time": "2024-05-23T22:59:57.145Z"
   },
   {
    "duration": 8,
    "start_time": "2024-05-23T22:59:57.152Z"
   },
   {
    "duration": 13,
    "start_time": "2024-05-23T22:59:57.168Z"
   },
   {
    "duration": 9,
    "start_time": "2024-05-23T22:59:57.184Z"
   },
   {
    "duration": 6,
    "start_time": "2024-05-23T22:59:57.234Z"
   },
   {
    "duration": 19,
    "start_time": "2024-05-23T22:59:57.244Z"
   },
   {
    "duration": 436,
    "start_time": "2024-05-23T22:59:57.266Z"
   },
   {
    "duration": 1,
    "start_time": "2024-05-23T22:59:57.704Z"
   },
   {
    "duration": 0,
    "start_time": "2024-05-23T22:59:57.708Z"
   },
   {
    "duration": 0,
    "start_time": "2024-05-23T22:59:57.710Z"
   },
   {
    "duration": 265,
    "start_time": "2024-05-23T23:06:53.984Z"
   },
   {
    "duration": 20,
    "start_time": "2024-05-23T23:09:37.158Z"
   },
   {
    "duration": 25,
    "start_time": "2024-05-23T23:09:37.399Z"
   },
   {
    "duration": 26,
    "start_time": "2024-05-23T23:09:37.887Z"
   },
   {
    "duration": 343,
    "start_time": "2024-05-28T17:07:51.094Z"
   },
   {
    "duration": 5050,
    "start_time": "2024-05-28T17:07:58.636Z"
   },
   {
    "duration": 49,
    "start_time": "2024-05-28T17:08:03.690Z"
   },
   {
    "duration": 8,
    "start_time": "2024-05-28T17:08:07.546Z"
   },
   {
    "duration": 118,
    "start_time": "2024-05-28T17:09:26.464Z"
   },
   {
    "duration": 40,
    "start_time": "2024-05-28T17:09:35.636Z"
   },
   {
    "duration": 7,
    "start_time": "2024-05-28T17:09:37.250Z"
   },
   {
    "duration": 26,
    "start_time": "2024-05-28T17:11:09.528Z"
   },
   {
    "duration": 11,
    "start_time": "2024-05-28T17:11:15.518Z"
   },
   {
    "duration": 269,
    "start_time": "2024-05-28T17:11:18.226Z"
   },
   {
    "duration": 28,
    "start_time": "2024-05-28T17:12:04.825Z"
   },
   {
    "duration": 252,
    "start_time": "2024-05-28T17:12:13.179Z"
   },
   {
    "duration": 315,
    "start_time": "2024-05-28T17:12:18.977Z"
   },
   {
    "duration": 1767,
    "start_time": "2024-05-28T17:12:48.848Z"
   },
   {
    "duration": 37,
    "start_time": "2024-05-28T17:13:01.119Z"
   },
   {
    "duration": 4,
    "start_time": "2024-05-28T17:13:01.943Z"
   },
   {
    "duration": 5,
    "start_time": "2024-05-28T17:13:03.366Z"
   },
   {
    "duration": 16,
    "start_time": "2024-05-28T17:13:04.002Z"
   },
   {
    "duration": 7,
    "start_time": "2024-05-28T17:13:05.525Z"
   },
   {
    "duration": 7,
    "start_time": "2024-05-28T17:13:05.868Z"
   },
   {
    "duration": 8,
    "start_time": "2024-05-28T17:13:51.390Z"
   },
   {
    "duration": 19,
    "start_time": "2024-05-28T17:13:58.772Z"
   },
   {
    "duration": 28,
    "start_time": "2024-05-28T17:13:59.573Z"
   },
   {
    "duration": 18,
    "start_time": "2024-05-28T17:14:16.059Z"
   },
   {
    "duration": 18,
    "start_time": "2024-05-28T17:14:20.616Z"
   },
   {
    "duration": 19,
    "start_time": "2024-05-28T17:14:23.686Z"
   },
   {
    "duration": 663,
    "start_time": "2024-05-28T17:15:00.340Z"
   },
   {
    "duration": 4,
    "start_time": "2024-05-28T17:17:18.584Z"
   },
   {
    "duration": 9,
    "start_time": "2024-05-28T17:17:33.787Z"
   },
   {
    "duration": 23,
    "start_time": "2024-05-28T17:18:15.232Z"
   },
   {
    "duration": 8,
    "start_time": "2024-05-28T17:18:20.409Z"
   },
   {
    "duration": 7,
    "start_time": "2024-05-28T17:18:49.408Z"
   },
   {
    "duration": 4887,
    "start_time": "2024-05-29T00:07:35.456Z"
   },
   {
    "duration": 45,
    "start_time": "2024-05-29T00:07:40.346Z"
   },
   {
    "duration": 7,
    "start_time": "2024-05-29T00:07:40.395Z"
   },
   {
    "duration": 69,
    "start_time": "2024-05-29T00:07:40.405Z"
   },
   {
    "duration": 8,
    "start_time": "2024-05-29T00:07:40.481Z"
   },
   {
    "duration": 42,
    "start_time": "2024-05-29T00:07:40.492Z"
   },
   {
    "duration": 280,
    "start_time": "2024-05-29T00:07:40.537Z"
   },
   {
    "duration": 1793,
    "start_time": "2024-05-29T00:07:40.820Z"
   },
   {
    "duration": 38,
    "start_time": "2024-05-29T00:07:42.617Z"
   },
   {
    "duration": 5,
    "start_time": "2024-05-29T00:07:42.659Z"
   },
   {
    "duration": 7,
    "start_time": "2024-05-29T00:07:42.668Z"
   },
   {
    "duration": 11,
    "start_time": "2024-05-29T00:07:42.678Z"
   },
   {
    "duration": 46,
    "start_time": "2024-05-29T00:07:42.692Z"
   },
   {
    "duration": 8,
    "start_time": "2024-05-29T00:07:42.744Z"
   },
   {
    "duration": 18,
    "start_time": "2024-05-29T00:07:42.755Z"
   },
   {
    "duration": 58,
    "start_time": "2024-05-29T00:07:42.776Z"
   },
   {
    "duration": 17,
    "start_time": "2024-05-29T00:07:42.837Z"
   },
   {
    "duration": 19,
    "start_time": "2024-05-29T00:07:42.857Z"
   },
   {
    "duration": 8,
    "start_time": "2024-05-29T00:07:42.879Z"
   },
   {
    "duration": 49,
    "start_time": "2024-05-29T00:07:42.890Z"
   },
   {
    "duration": 7,
    "start_time": "2024-05-29T00:07:42.942Z"
   }
  ],
  "kernelspec": {
   "display_name": "Python 3 (ipykernel)",
   "language": "python",
   "name": "python3"
  },
  "language_info": {
   "codemirror_mode": {
    "name": "ipython",
    "version": 3
   },
   "file_extension": ".py",
   "mimetype": "text/x-python",
   "name": "python",
   "nbconvert_exporter": "python",
   "pygments_lexer": "ipython3",
   "version": "3.9.19"
  },
  "toc": {
   "base_numbering": 1,
   "nav_menu": {},
   "number_sections": true,
   "sideBar": true,
   "skip_h1_title": true,
   "title_cell": "Table of Contents",
   "title_sidebar": "Contents",
   "toc_cell": false,
   "toc_position": {},
   "toc_section_display": true,
   "toc_window_display": false
  }
 },
 "nbformat": 4,
 "nbformat_minor": 2
}
